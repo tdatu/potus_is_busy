{
 "cells": [
  {
   "cell_type": "markdown",
   "metadata": {},
   "source": [
    "# POTUS Twitter Activities  \n",
    "\n",
    "This jupyter notebook is a simple demonstration how busy the potus's twitter account in the midst of covid-19's calamity. "
   ]
  },
  {
   "cell_type": "markdown",
   "metadata": {},
   "source": [
    "*Requirements:*\n",
    "- Twitter API Credentials (saved in config.ini)\n",
    "- Set up twitter environment (https://developer.twitter.com/en/account/environments)\n",
    "- Python 3+\n",
    "- jupyter\n"
   ]
  },
  {
   "cell_type": "markdown",
   "metadata": {},
   "source": [
    "Import the necessary python libraries:"
   ]
  },
  {
   "cell_type": "code",
   "execution_count": 41,
   "metadata": {},
   "outputs": [
    {
     "name": "stdout",
     "output_type": "stream",
     "text": [
      "<class 'datetime.date'>\n",
      "202004180000\n"
     ]
    }
   ],
   "source": [
    "import requests\n",
    "import configparser\n",
    "import os\n",
    "import json\n",
    "from datetime import timedelta\n",
    "from datetime import date\n"
   ]
  },
  {
   "cell_type": "code",
   "execution_count": 13,
   "metadata": {},
   "outputs": [],
   "source": [
    "env = 'dev' #this is determined on how you name your twitter environment (2nd bullet point)"
   ]
  },
  {
   "cell_type": "markdown",
   "metadata": {},
   "source": [
    "Parse the config.ini file where your twitter key and secret are stored"
   ]
  },
  {
   "cell_type": "code",
   "execution_count": 15,
   "metadata": {},
   "outputs": [
    {
     "data": {
      "text/plain": [
       "['config.ini']"
      ]
     },
     "execution_count": 15,
     "metadata": {},
     "output_type": "execute_result"
    }
   ],
   "source": [
    "config = configparser.ConfigParser()\n",
    "config.read('config.ini')"
   ]
  },
  {
   "cell_type": "markdown",
   "metadata": {},
   "source": [
    "Authenticate against twitter api to get the tokens to authorization for subsequent twitter api calls."
   ]
  },
  {
   "cell_type": "code",
   "execution_count": 16,
   "metadata": {},
   "outputs": [],
   "source": [
    "sess = requests.Session()\n",
    "res = sess.post(\n",
    "    'https://api.twitter.com/oauth2/token?grant_type=client_credentials', \n",
    "    auth=(config['twitter']['key'], config['twitter']['secret'])\n",
    ")\n",
    "\n",
    "tok = res.json()"
   ]
  },
  {
   "cell_type": "markdown",
   "metadata": {},
   "source": [
    "Update the session headers to add the token"
   ]
  },
  {
   "cell_type": "code",
   "execution_count": 17,
   "metadata": {},
   "outputs": [],
   "source": [
    "sess.headers.update({\"Content-Type\":\"application/json\"})\n",
    "sess.headers.update({\"authorization\":\"Bearer \" + tok['access_token']})\n"
   ]
  },
  {
   "cell_type": "code",
   "execution_count": 43,
   "metadata": {},
   "outputs": [
    {
     "name": "stdout",
     "output_type": "stream",
     "text": [
      "POTUS tweets more than 70 times\n",
      "Will be online tomorrow morning at 10:30am (Eastern) watching @jackngraham from @Prestonwood Baptist in Dallas, Tex… https://t.co/hfBsaecwEX\n",
      "RT @WhiteHouse: LIVE: Press Briefing with Coronavirus Task Force https://t.co/nurNOvlZjJ\n",
      "China wants Sleepy Joe sooo badly. They want all of those billions of dollars that they have been paying to the U.S… https://t.co/MTFxzTY4Fr\n",
      "RT @BryanDeanWright: Biden has a problem if he runs on “Things Were Better Under Obama.”\n",
      "RT @paulsperry_: With all the grounded flights and ghosted airports, great time for POTUS to rebuild crumbling airports like La Guardia and…\n",
      "RT @paulsperry_: Trump’s bold gamble on hydroxychloroquine (HC) appears to be paying off. Medical professionals in NY tell Judicial Watch t…\n",
      "I gave up on Drudge (a really nice guy) long ago, as have many others. People are dropping off like flies! https://t.co/L77SXS2mE8\n",
      "RT @paulsperry_: BREAKING: New daily cases of COVID-19 in both U.S. and N.Y. have peaked and trend-line now rolling over\n",
      "RT @paulsperry_: Let's see if authorities enforce the social-distancing orders for mosques during Ramadan (April 23-May 23) like they did c…\n",
      "RT @paulsperry_: BREAKING: Adjusted for population, U.S. COVID-19 deaths (fatalities per million) are lower than every Western European cou…\n",
      "The most often used phrase in the Lamestream Media, by far, is “sources say”, or “officials who spoke on the condit… https://t.co/pCUEMZy97n\n",
      "....them happy, or even a little bit satisfied. They were RUDE and NASTY. This is their political playbook, and the… https://t.co/qCaAjmaZQW\n",
      "....Example! V.P. Mike Pence held a conference call yesterday with all Democrat Senators. He gave them everything t… https://t.co/1bUkfIMXCW\n",
      "No matter what you do for the Do Nothing Democrats, no matter how GREAT a job you are doing, they will only respond… https://t.co/XImk4t7nsH\n",
      "Great news, thank you! https://t.co/hp4TCZQW9r\n",
      "Thank you @Honeywell, great job! https://t.co/8MfzxtvDPK\n",
      "I will be having a White House Press Conference today at 5:00 P.M. Thank you!\n",
      "Really nice to see this and, what a great pick! https://t.co/91104h0sd1\n",
      "John James will be a GREAT Senator for Michigan! https://t.co/yGiWzZ9nR0\n",
      "RT @SenRickScott: .@SenateDems blocked more funding for this program just last week and now it’s almost out of money. Small businesses need…\n",
      "RT @SenJohnBarrasso: The @SenSchumer &amp; @SpeakerPelosi paycheck blockade must end now. The #PaycheckProtectionProgram has ensured millions o…\n",
      "RT @marcorubio: In just 12 days #PPP has helped over 1 MILLION #SmallBusiness save 15 MILLION American jobs. But now it’s being held hostag…\n",
      "RT @marcorubio: Contrary to the air cover being provided to Democratic congressional leaders by many in the media #PPP is NOT tied up becau…\n",
      "RT @SenatorTimScott: The initial #PaycheckProtectionProgram funds have run out. 5.2 million more Americans filed for unemployment last week…\n",
      "RT @SenCapito: This situation could have been completely avoided. Small businesses in America are in desperate need. We should not be playi…\n",
      "RT @senatemajldr: Republicans tried to pass more money for Americans’ paychecks last week. Democrats blocked it. Speaker Pelosi said she sa…\n",
      "RT @JimInhofe: BREAKING – Funds have officially run out for the #PaycheckProtectionProgram. This program has helped so many in Oklahoma and…\n",
      "RT @WhiteHouse: Congress must IMMEDIATELY increase funding for the Paycheck Protection Program.\n",
      "\n",
      "A simple 1 page bill will get the job done…\n",
      "RT @GrassleyPress: The livelihood of many Americans are on the line during the #coronavirus pandemic.\n",
      "\n",
      "Last week, @SenateDems blocked addit…\n",
      "RT @SenJohnThune: This never needed to happen.\n",
      "\n",
      "@SenateGOP was ready to approve more relief funds last week — Dems stepped in to block.\n",
      "\n",
      "*O…\n",
      "RT @SenatorBraun: I spent 40 years building a small business on Main Street, and it's sad that Senate Democrats blocked additional aid for…\n",
      "RT @SenToddYoung: Speaker Nancy Pelosi’s refusal to provide additional funding for this bipartisan program is indefensible. I’ll continue f…\n",
      "RT @SteveDaines: The #PaycheckProtectionProgram is critical for MT small businesses and workers. It’s officially OUT of money. We must boos…\n",
      "RT @SenJoniErnst: #PaycheckProtectionProgram has allowed workers to collect paychecks &amp; #smallbiz owners pay bills: 22K+ loans &amp; $3.7B+ in…\n",
      "RT @SenatorLankford: Small businesses in Oklahoma received more than $4 billion dollars from the #PaycheckProtectionProgram to help them &amp;…\n",
      "RT @SenHydeSmith: Today @SBAgov announced officially that #PaycheckProtectionProgram is out of funds. Every Senate Republican was ready to…\n",
      "RT @SenatorFischer: Great #PaycheckProtectionProgram success story in NE! I’m glad Steve was able to use this program to get his employees…\n",
      "RT @SenBillCassidy: I’m receiving text messages, phone calls &amp; emails from #smallbiz owners who wonder if more money will be put into the #…\n",
      "RT @SenJohnKennedy: Congress could pass clean #coronavirus relief bills . . . if Speaker Pelosi would agree to it. \n",
      "\n",
      "Right now, though, Dem…\n",
      "RT @SenJohnThune: By blocking relief for Main Street, Democrats are behaving as they always do in circumstances like this one: hijacking th…\n",
      "RT @SenateGOP: ⚙️⛰️🇺🇸\n",
      "\n",
      "The #PaycheckProtectionProgram is WORKING in Colorado!\n",
      "\n",
      "↓↓↓↓ https://t.co/pbqD0BSXqe\n",
      "RT @senrobportman: The #PaycheckProtectionProgram has already issued 1M+ loans to small businesses, saving millions of jobs nationwide.\n",
      " \n",
      "B…\n",
      "RT @SenateGOP: #PPP Update: April 17\n",
      "\n",
      "↓↓↓\n",
      "\n",
      "❌no new loans approved\n",
      "\n",
      "❌no new jobs saved\n",
      "\n",
      "The Paycheck Protection Program is out of money.\n",
      "\n",
      "an…\n",
      "RT @SenJohnBarrasso: @SenSchumer .@SenSchumer and Congressional Democrats need to stop holding workers and small businesses hostage and sto…\n",
      "RT @SenateGOP: The #PaycheckProtectionProgram is literally saving millions of jobs.\n",
      "\n",
      "It's helping small businesses stay open.\n",
      "\n",
      "FUNDS WILL R…\n",
      "RT @SenatorTimScott: I want to thank President @realDonaldTrump for the opportunity to serve our nation on this task force, and I will be w…\n",
      "RT @SenatorTimScott: As our nation faces an unprecedented crisis in responding to the #COVID19 #coronavirus pandemic, it is critical that w…\n",
      "RT @SenatorTimScott: Through yesterday, the PPP approved 22,933 loans for more than $3.8b in South Carolina. $3.8b to ensure workers get th…\n",
      "Spending the morning speaking to @fema and Military relative to CoronaVirus. Also, spoke to leaders of various coun… https://t.co/vO12He2fKQ\n",
      "An incompetent political hack! Come back to Washington &amp; take care of our great American workers. https://t.co/FZ9mH92j0S\n",
      "This is a disgraceful situation! https://t.co/s2qZSrGw6U\n",
      "RT @charliekirk11: This is your daily reminder that Joe Biden flew his son to China on Air Force 2 to help him secure a $1.5 BILLION deal w…\n",
      "RT @charliekirk11: One week ago today, Democrats blocked a GOP-led increase in funding for small businesses\n",
      "\n",
      "Today, that funding ran out.…\n",
      "RT @charliekirk11: Democrats care more about appeasing China than the American people.\n",
      "RT @charliekirk11: Did you know:\n",
      "\n",
      "Ilhan Omar's campaign is on track to pay her husband's consulting firm $1.16 MILLION in 2020\n",
      "\n",
      "Last year,…\n",
      "RT @charliekirk11: In January, The WHO tweeted that China found no evidence of human-to-human transmission of COVID-19\n",
      "\n",
      "This was a Chinese…\n",
      "Lamestream Media is only getting worse! https://t.co/cuTRo87tz3\n",
      "Cut him off now! https://t.co/kdGybEFeOI\n",
      "RT @charliekirk11: Facts:\n",
      "\n",
      "California’s Motor Voter law resulted in AT LEAST 1,500 people, including non-citizens, being registered to vote…\n",
      "Great book. Get it and support Charlie! https://t.co/fG7YXOCk9R\n",
      "RT @TeamTrump: President @realDonaldTrump: Economic relief payments have been sent out to over 80 million Americans!\n",
      "\n",
      "If you haven’t got yo…\n",
      "They are Fake News Losers! https://t.co/3RHcBZogms\n",
      "RT @GOPChairwoman: Democrats are blocking more funding for #PaycheckProtectionProgram that @realDonaldTrump signed into law.\n",
      "\n",
      "1.7M #smallbi…\n",
      "RT @TeamTrump: The partisan media has spread false information about America's testing capacity!\n",
      "\n",
      "President @realDonaldTrump isn't afraid t…\n",
      "RT @TeamTrump: President @realDonaldTrump: “The ultimate victory in this war will be made possible by America’s scientific brilliance.” htt…\n",
      "RT @GOPChairwoman: Great news from @realDonaldTrump:\n",
      "\n",
      "So far, the Treasury Department has sent 80 million Americans economic relief payment…\n",
      "RT @ChanelRion: AG Sec Sonny Purdue:\n",
      "- Ag Relief Program is in 2 parts\n",
      "1) $16 bill in direct payments\n",
      "2) USDA will purchase $3 Bill in food…\n",
      "RT @ChanelRion: #HAPPENINGNOW: White House Daily  Briefing 4/17/20\n",
      "\n",
      "- Treasury has sent relief checks to over 80 mill Americans - https://t…\n",
      "RT @WhiteHouse: Yesterday, we unveiled the Guidelines for Opening Up America Again! 🇺🇸 \n",
      "\n",
      "https://t.co/HxnTNieF8w https://t.co/TaBM5RfBC0\n",
      "RT @SecretarySonny: Thank you @realDonaldTrump for all you do for America's farmers and ranchers.\n"
     ]
    }
   ],
   "source": [
    "today = date.today()\n",
    "delta = timedelta(days=1)\n",
    "yesterday = date.today() - delta\n",
    "\n",
    "payload = {\n",
    "    \"query\":\"from:realDonaldTrump lang:en\",\n",
    "    \"maxResults\": \"100\",\n",
    "    \"fromDate\": yesterday.strftime('%Y%m%d%H%M'), \n",
    "    \"toDate\": today.strftime('%Y%m%d%H%M')\n",
    "}\n",
    "res = sess.post(\n",
    "    'https://api.twitter.com/1.1/tweets/search/30day/' + env + '.json',\n",
    "    data=json.dumps(payload)\n",
    ")\n",
    "\n",
    "tweets = res.json()['results']\n",
    "print('POTUS tweets {} times'.format(len(tweets)))\n",
    "\n",
    "for tweet in tweets:\n",
    "    print(tweet['text'])"
   ]
  },
  {
   "cell_type": "code",
   "execution_count": null,
   "metadata": {},
   "outputs": [],
   "source": []
  }
 ],
 "metadata": {
  "kernelspec": {
   "display_name": "Python 3",
   "language": "python",
   "name": "python3"
  },
  "language_info": {
   "codemirror_mode": {
    "name": "ipython",
    "version": 3
   },
   "file_extension": ".py",
   "mimetype": "text/x-python",
   "name": "python",
   "nbconvert_exporter": "python",
   "pygments_lexer": "ipython3",
   "version": "3.7.6"
  }
 },
 "nbformat": 4,
 "nbformat_minor": 4
}
