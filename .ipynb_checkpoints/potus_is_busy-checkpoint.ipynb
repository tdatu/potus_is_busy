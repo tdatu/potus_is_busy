{
 "cells": [
  {
   "cell_type": "markdown",
   "metadata": {},
   "source": [
    "# POTUS Twitter Activities  \n",
    "\n",
    "This jupyter notebook is a simple demonstration how busy the potus's twitter account in the midst of covid-19's calamity. "
   ]
  },
  {
   "cell_type": "markdown",
   "metadata": {},
   "source": [
    "*Requirements:*\n",
    "- Twitter API Credentials (saved in config.ini)\n",
    "- Set up twitter environment (https://developer.twitter.com/en/account/environments)\n",
    "- Python 3+\n",
    "- jupyter\n"
   ]
  },
  {
   "cell_type": "markdown",
   "metadata": {},
   "source": [
    "Import the necessary python libraries:"
   ]
  },
  {
   "cell_type": "code",
   "execution_count": 45,
   "metadata": {},
   "outputs": [],
   "source": [
    "import requests\n",
    "import configparser\n",
    "import os\n",
    "import json\n",
    "from datetime import timedelta\n",
    "from datetime import date\n"
   ]
  },
  {
   "cell_type": "code",
   "execution_count": 46,
   "metadata": {},
   "outputs": [],
   "source": [
    "env = 'dev' #this is determined on how you name your twitter environment (2nd bullet point)"
   ]
  },
  {
   "cell_type": "markdown",
   "metadata": {},
   "source": [
    "Parse the config.ini file where your twitter key and secret are stored"
   ]
  },
  {
   "cell_type": "code",
   "execution_count": 47,
   "metadata": {},
   "outputs": [
    {
     "data": {
      "text/plain": [
       "['config.ini']"
      ]
     },
     "execution_count": 47,
     "metadata": {},
     "output_type": "execute_result"
    }
   ],
   "source": [
    "config = configparser.ConfigParser()\n",
    "config.read('config.ini')"
   ]
  },
  {
   "cell_type": "markdown",
   "metadata": {},
   "source": [
    "Authenticate against twitter api to get the tokens to authorization for subsequent twitter api calls."
   ]
  },
  {
   "cell_type": "code",
   "execution_count": 48,
   "metadata": {},
   "outputs": [],
   "source": [
    "sess = requests.Session()\n",
    "res = sess.post(\n",
    "    'https://api.twitter.com/oauth2/token?grant_type=client_credentials', \n",
    "    auth=(config['twitter']['key'], config['twitter']['secret'])\n",
    ")\n",
    "\n",
    "tok = res.json()"
   ]
  },
  {
   "cell_type": "markdown",
   "metadata": {},
   "source": [
    "Update the session headers to add the token"
   ]
  },
  {
   "cell_type": "code",
   "execution_count": 49,
   "metadata": {},
   "outputs": [],
   "source": [
    "sess.headers.update({\"Content-Type\":\"application/json\"})\n",
    "sess.headers.update({\"authorization\":\"Bearer \" + tok['access_token']})\n"
   ]
  },
  {
   "cell_type": "code",
   "execution_count": 52,
   "metadata": {},
   "outputs": [
    {
     "name": "stdout",
     "output_type": "stream",
     "text": [
      "POTUS tweets 70 times\n",
      "LadyGaga tweets 2 times\n"
     ]
    }
   ],
   "source": [
    "today = date.today()\n",
    "delta = timedelta(days=1)\n",
    "yesterday = date.today() - delta\n",
    "\n",
    "# potus activities\n",
    "payload = {\n",
    "    \"query\":\"from:realDonaldTrump lang:en\",\n",
    "    \"maxResults\": \"100\",\n",
    "    \"fromDate\": yesterday.strftime('%Y%m%d%H%M'), \n",
    "    \"toDate\": today.strftime('%Y%m%d%H%M')\n",
    "}\n",
    "\n",
    "res = sess.post(\n",
    "    'https://api.twitter.com/1.1/tweets/search/30day/' + env + '.json',\n",
    "    data=json.dumps(payload)\n",
    ")\n",
    "\n",
    "potus = res.json()['results']\n",
    "#print('POTUS tweets {} times'.format(len(potus)))\n",
    "\n",
    "# ladygaga activities\n",
    "payload = {\n",
    "    \"query\":\"from:ladygaga lang:en\",\n",
    "    \"maxResults\": \"100\",\n",
    "    \"fromDate\": yesterday.strftime('%Y%m%d%H%M'), \n",
    "    \"toDate\": today.strftime('%Y%m%d%H%M')\n",
    "}\n",
    "\n",
    "res = sess.post(\n",
    "    'https://api.twitter.com/1.1/tweets/search/30day/' + env + '.json',\n",
    "    data=json.dumps(payload)\n",
    ")\n",
    "\n",
    "lady = res.json()['results']\n",
    "\n",
    "print('POTUS tweeted {} times'.format(len(potus)))\n",
    "print('LadyGaga tweeted {} times'.format(len(lady)))\n",
    "\n",
    "\n",
    "#for tweet in potus:\n",
    "#    print(tweet['text'])"
   ]
  },
  {
   "cell_type": "code",
   "execution_count": null,
   "metadata": {},
   "outputs": [],
   "source": []
  }
 ],
 "metadata": {
  "kernelspec": {
   "display_name": "Python 3",
   "language": "python",
   "name": "python3"
  },
  "language_info": {
   "codemirror_mode": {
    "name": "ipython",
    "version": 3
   },
   "file_extension": ".py",
   "mimetype": "text/x-python",
   "name": "python",
   "nbconvert_exporter": "python",
   "pygments_lexer": "ipython3",
   "version": "3.7.6"
  }
 },
 "nbformat": 4,
 "nbformat_minor": 4
}
